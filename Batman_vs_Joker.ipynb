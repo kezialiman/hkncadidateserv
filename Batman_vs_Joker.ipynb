{
 "cells": [
  {
   "cell_type": "markdown",
   "metadata": {},
   "source": [
    "<h1 style=\"color:#ebba1c\">RSA Cryptosystem</h1>\n",
    "<br/>\n",
    "The basic setting for cryptography is typically described via a cast of three characters: You and Batman, who with to communicate confidentially over some (insecure) link, and Joker, an eavesdropper who is listening in and trying to discover what you and Batman are saying. Let’s assume that you want to transmit a message x to Batman. You will apply your encryption function E to x and send the encrypted message E(x) over the link; Batman, upon receiving E(x), will then apply his decryption function D to it and thus recover the original message.\n",
    "\n",
    "<img style=\"width:300px; height: 300px\" src=\"batmanvsjoker.jpg\">\n",
    "\n",
    "Since the link is insecure, you and Batman have to assume that the evil Joker may get hold of E(x). (Think of Joker as being a “sniffer\" on the network.) Thus ideally we would like to know that the encryption function E is chosen so that just knowing E(x) (without knowing the decryption function D) doesn’t allow one to discover anything about the original message x.\n",
    "\n",
    "Let's choose a message that you want to send to Batman"
   ]
  },
  {
   "cell_type": "code",
   "execution_count": 74,
   "metadata": {},
   "outputs": [
    {
     "name": "stdout",
     "output_type": "stream",
     "text": [
      "Your original message:\n",
      "INSERT YOUR MESSAGE HERE\n",
      "\n",
      "This is your message, converted to integers (x):\n",
      "[73, 78, 83, 69, 82, 84, 32, 89, 79, 85, 82, 32, 77, 69, 83, 83, 65, 71, 69, 32, 72, 69, 82, 69]\n"
     ]
    }
   ],
   "source": [
    "yourMessage = \"INSERT YOUR MESSAGE HERE\"\n",
    "\n",
    "# Now we will convert this message to Batman into an integer.\n",
    "x = [ord(s) for s in yourMessage]\n",
    "\n",
    "print(\"Your original message:\")\n",
    "print(yourMessage +'\\n')\n",
    "\n",
    "print(\"This is your message, converted to integers (x):\")\n",
    "print(x)"
   ]
  },
  {
   "cell_type": "markdown",
   "metadata": {},
   "source": [
    "Here is we implement the digital lock in the RSA scheme. You and Batman has a public key known to the whole world, and a private key known only to you- or Batman. When you wants to send a message x to Batman, you encode it using Batman’s public key. Batman then decrypts it using his private key, thus retrieving your important, secret message, x. Joker is welcome to see as many encrypted messages for Batman as he likes, but he will not be able to decode them.\n",
    "\n",
    "<br/>\n",
    "<h5>Sounds exciting huh?</h5> But first, since the RSA scheme is based heavily on modular arithmetic, we will first dive into it\n"
   ]
  },
  {
   "cell_type": "markdown",
   "metadata": {},
   "source": [
    "<h1>Modular Arithmetic</h1>\n",
    "In several settings, such as error-correcting codes and cryptography, we sometimes wish to work over a smaller range of numbers. Modular arithmetic is useful in these settings, since it limits numbers to a predefined range {0, 1, . . . , N − 1}, and wraps around whenever you try to leave this range — like the hand of a clock (where N = 12) or the days of the week (where N = 7).\n",
    "\n",
    "<h4>Example: Calculating the time.</h4>\n",
    "When you calculate the time, you automatically use modular arithmetic. For example, if you are asked what time it will be 13 hours from 1 pm, you say 2 am rather than 14. Let’s assume our clock displays 12 as 0. This is limiting numbers to a predefined range, {0,1,2,...,11}. Whenever you add two numbers in this setting, you divide by 12 and provide the remainder as the answer.\n",
    "\n",
    "Generally, we can define x mod m (in words: “x modulo m”) to be the remainder r when we divide x bym. I.e.,if $x$ $mod$ $m$ $=$ $r$, then $x=mq+r$ where $0≤r≤m−1$ and $q$ is an integer. Thus 13 $mod$ 12=1."
   ]
  },
  {
   "cell_type": "code",
   "execution_count": 1,
   "metadata": {},
   "outputs": [
    {
     "name": "stdout",
     "output_type": "stream",
     "text": [
      "YOU DID IT!\n"
     ]
    }
   ],
   "source": [
    "# LET'S TRY IT OUT\n",
    "from checker import checker\n",
    "\n",
    "# Example\n",
    "# What is 5 mod 3?\n",
    "ans = 2\n",
    "\n",
    "# What is 29 mod 24\n",
    "a = \"ANSWER HERE\"\n",
    "\n",
    "# What is 17 mod 4\n",
    "b = \"ANSWER HERE\"\n",
    "\n",
    "# What is 136 mod 4\n",
    "c = \"ANSWER HERE\"\n",
    "\n",
    "checker([a,b,c])"
   ]
  },
  {
   "cell_type": "markdown",
   "metadata": {},
   "source": [
    "<h2>Inverse Modulo</h2>\n",
    "<br/>\n",
    "when we wish to divide by $x$ $(mod$ $m)$, we need to find $y$ $(mod$ $m)$ such that $x · y ≡ 1 (mod$ $m)$"
   ]
  },
  {
   "cell_type": "code",
   "execution_count": 45,
   "metadata": {},
   "outputs": [
    {
     "name": "stdout",
     "output_type": "stream",
     "text": [
      "A: Not quite. Try again\n",
      "B: Not quite. Try again\n",
      "C: Not quite. Try again\n"
     ]
    }
   ],
   "source": [
    "# LET'S TRY IT OUT\n",
    "from inverse import inverse\n",
    "\n",
    "# What is the inverse of 1 (mod 5). Hint: The inverse of 1 is x iff x * 1 = 1 (mod 5)\n",
    "a = \"ANSWER HERE\"\n",
    "\n",
    "# What is the inverse of 4 (mod 7). Hint: The 8 = 1 (mod 7)\n",
    "b = \"ANSWER HERE\"\n",
    "\n",
    "# What is the inverse of 5 (mod 9).\n",
    "c = \"ANSWER HERE\"\n",
    "\n",
    "inverse([a,b,c])"
   ]
  },
  {
   "cell_type": "markdown",
   "metadata": {},
   "source": [
    "Alright, now back to Batman!\n",
    "\n",
    "The RSA scheme is based heavily on modular arithmetic. Let p and q be two large primes (typically having, say, 512 bits each), and let $N = pq$. We will think of messages to Batman as numbers modulo $N$.\n",
    "Also, let $e$ be any number that is relatively prime to $(p−1)(q−1)$. Then Bob’s public key is the pair of numbers $(N,e)$. This pair is published to the whole world."
   ]
  },
  {
   "cell_type": "code",
   "execution_count": 60,
   "metadata": {},
   "outputs": [],
   "source": [
    "# STEP 1: Choose P and Q\n",
    "# NOTE p and q must be a prime number and N = p * q must be larger than the numbers we want to send\n",
    "# For convenience we will provide you the P, Q and E\n",
    "p = 19\n",
    "q = 17\n",
    "e = 7 # This must not share any factors with (p-1)(q-1)\n",
    "\n",
    "#FIND Batman's public key\n",
    "(N,e) = (_____, ___)"
   ]
  },
  {
   "cell_type": "markdown",
   "metadata": {},
   "source": [
    "What is Batman’s private key? This will be the number $d$, which is the inverse of $e$ $mod$ $(p − 1)(q − 1)$."
   ]
  },
  {
   "cell_type": "code",
   "execution_count": 53,
   "metadata": {},
   "outputs": [
    {
     "ename": "SyntaxError",
     "evalue": "invalid syntax (<ipython-input-53-3c3a51fa65fd>, line 8)",
     "output_type": "error",
     "traceback": [
      "\u001b[0;36m  File \u001b[0;32m\"<ipython-input-53-3c3a51fa65fd>\"\u001b[0;36m, line \u001b[0;32m8\u001b[0m\n\u001b[0;31m    if (i _ e) % m == ____: # Fill in the blanks\u001b[0m\n\u001b[0m          ^\u001b[0m\n\u001b[0;31mSyntaxError\u001b[0m\u001b[0;31m:\u001b[0m invalid syntax\n"
     ]
    }
   ],
   "source": [
    "# Find (p-1)(q-1)\n",
    "M = \"ANSWER HERE\"\n",
    "\n",
    "# Now we are going to find the inverse of x mod m.\n",
    "# To find the inverse we should find a and d, such that aM + de = 1\n",
    "def find_inverse(e, m):\n",
    "    for i in range(2, m):\n",
    "        if (i _ e) % m == ____: # Fill in the blanks\n",
    "            return i\n",
    "    return -1\n",
    "\n",
    "\n",
    "# Find d\n",
    "d = \"answer here\""
   ]
  },
  {
   "cell_type": "markdown",
   "metadata": {},
   "source": [
    "<h2>We are now in a position to describe the encryption and decryption functions:</h2>\n",
    "\n",
    "• <b style=\"color: red\"><i>[Encryption]</b></i>: Your message $x$ (assumed to be an integer $mod$ $N$) to Batman, you\n",
    "computes the value $E(x) = x^e$ $mod$ $N$ and sends this to Batman."
   ]
  },
  {
   "cell_type": "code",
   "execution_count": 69,
   "metadata": {},
   "outputs": [
    {
     "name": "stdout",
     "output_type": "stream",
     "text": [
      "This is your encrypted message to Batman. Beware, Joker can read this!\n",
      ",'\bEl!;il;E\b\b[×E;ElEFX)\n"
     ]
    }
   ],
   "source": [
    "# ENCRYPTION\n",
    "\n",
    "def encrypt(x, e, N):\n",
    "    return ________ #Fill in the blank HINT a ** b calculates a to the power of b in python\n",
    "\n",
    "encrypted = []\n",
    "for i in x:\n",
    "    encrypted.append(________) #Fill in the blank\n",
    "\n",
    "print(\"This is your encrypted message to Batman. Beware, Joker can read this!\")\n",
    "print(''.join([chr(x) for x in encrypted]))"
   ]
  },
  {
   "cell_type": "markdown",
   "metadata": {},
   "source": [
    "• <b style=\"color: blue\"><i>[Decryption]</b></i>: Upon receiving the value $y=E(x)$, Batman computes $D(y)=y^d$ $mod$ $N$; this will be equal\n",
    "to the original message $x$."
   ]
  },
  {
   "cell_type": "code",
   "execution_count": 72,
   "metadata": {},
   "outputs": [
    {
     "name": "stdout",
     "output_type": "stream",
     "text": [
      "INSERT YOUR MESSAGE HEREZ<>?\n"
     ]
    }
   ],
   "source": [
    "# DECRYPTION\n",
    "\n",
    "def decrypt(y,d,N):\n",
    "    return ____________ #Fill in the blank\n",
    "\n",
    "decrypted = []\n",
    "for y in encrypted:\n",
    "    decrypted.append(__________) #Fill in the blanks \n",
    "\n",
    "strDecrypted = (''.join([chr(x) for x in decrypted]))\n",
    "if (yourMessage == strDecrypted):\n",
    "    print(\"Yay! Batman successfully decodes your super secret message which is\")\n",
    "    print(strDecrypted)\n",
    "else:\n",
    "    print(\"This is the message that Batman decodes:\")\n",
    "    print(strDecrypted)\n",
    "    print(\"Does this seem right?\")\n",
    "    print(\"I don't think so, hurry, try again Batman must get this message!\")\n"
   ]
  },
  {
   "cell_type": "markdown",
   "metadata": {},
   "source": [
    "<h1>Say bye to <span style=\"color: green\">Joker</span>! <span style=\"color: #ebba1c\">You save the day!</span></h1>"
   ]
  }
 ],
 "metadata": {
  "kernelspec": {
   "display_name": "Python 3",
   "language": "python",
   "name": "python3"
  },
  "language_info": {
   "codemirror_mode": {
    "name": "ipython",
    "version": 3
   },
   "file_extension": ".py",
   "mimetype": "text/x-python",
   "name": "python",
   "nbconvert_exporter": "python",
   "pygments_lexer": "ipython3",
   "version": "3.7.3"
  }
 },
 "nbformat": 4,
 "nbformat_minor": 2
}
